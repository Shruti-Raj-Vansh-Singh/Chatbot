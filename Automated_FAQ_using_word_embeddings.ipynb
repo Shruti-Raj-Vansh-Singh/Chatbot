{
  "nbformat": 4,
  "nbformat_minor": 0,
  "metadata": {
    "colab": {
      "name": "Automated FAQ using word embeddings.ipynb",
      "provenance": [],
      "authorship_tag": "ABX9TyNo1FhOFU3cvEx1KRW3c6Fk",
      "include_colab_link": true
    },
    "kernelspec": {
      "name": "python3",
      "display_name": "Python 3"
    },
    "language_info": {
      "name": "python"
    }
  },
  "cells": [
    {
      "cell_type": "markdown",
      "metadata": {
        "id": "view-in-github",
        "colab_type": "text"
      },
      "source": [
        "<a href=\"https://colab.research.google.com/github/Shruti-Raj-Vansh-Singh/Chatbot/blob/main/Automated_FAQ_using_word_embeddings.ipynb\" target=\"_parent\"><img src=\"https://colab.research.google.com/assets/colab-badge.svg\" alt=\"Open In Colab\"/></a>"
      ]
    },
    {
      "cell_type": "markdown",
      "metadata": {
        "id": "fyslVXvlDSHH"
      },
      "source": [
        "Finding answers to FAQ using word embeddings\n",
        "https://github.com/lavanyats/QuestionAnswering_From_FAQ_Tutorial/blob/master/embeddings_mlinterview_faq.ipynb \n",
        "https://www.youtube.com/watch?v=f5GBTOCXoYQ&t=2235s "
      ]
    },
    {
      "cell_type": "markdown",
      "metadata": {
        "id": "nNVEvituD-CX"
      },
      "source": [
        "#COVID FAQ"
      ]
    },
    {
      "cell_type": "markdown",
      "metadata": {
        "id": "L07FEU8eDOtU"
      },
      "source": [
        "In this notebook, we will try to find the most appropriate answer to the question aked by the user form the etof questions provided in the dataset. \\\n",
        "For this we will use word embeddings which are just vectorizedd form of words. We wil compare the the embedding of hte question asked with the once that are mentioned in the dataset and answer using the one that has the maxinmum similiarity using the cosine similarity function. \\\n",
        "The following aret he 4 word embeddings that we will be using are:\n",
        "1. Word of bags\n",
        "2. Word2vec\n",
        "3. GloVe\n",
        "4. BERT\n",
        "\n",
        " \\\n",
        "This is a very basic project and will answer questions using the set of answers given in the dataset. It doesnot generate its own answer."
      ]
    },
    {
      "cell_type": "code",
      "metadata": {
        "id": "kJwOfUZNDR3C",
        "colab": {
          "base_uri": "https://localhost:8080/"
        },
        "outputId": "113a9885-894c-4b7a-e80f-90fda20b741b"
      },
      "source": [
        "#mounting the drive\n",
        "from google.colab import drive\n",
        "drive.mount('/content/drive')"
      ],
      "execution_count": null,
      "outputs": [
        {
          "output_type": "stream",
          "text": [
            "Drive already mounted at /content/drive; to attempt to forcibly remount, call drive.mount(\"/content/drive\", force_remount=True).\n"
          ],
          "name": "stdout"
        }
      ]
    },
    {
      "cell_type": "code",
      "metadata": {
        "id": "j_vjrVX8BCUV",
        "colab": {
          "base_uri": "https://localhost:8080/"
        },
        "outputId": "2df447e4-f5f7-48ab-91c9-24248a28b53a"
      },
      "source": [
        "\n",
        "!unzip '/content/drive/My Drive/dataset/covid_faq.zip'"
      ],
      "execution_count": null,
      "outputs": [
        {
          "output_type": "stream",
          "text": [
            "Archive:  /content/drive/My Drive/dataset/covid_faq.zip\n",
            "replace covid_faq.csv? [y]es, [n]o, [A]ll, [N]one, [r]ename: N\n"
          ],
          "name": "stdout"
        }
      ]
    },
    {
      "cell_type": "code",
      "metadata": {
        "id": "5lRCojHBEl2Z"
      },
      "source": [
        "import pandas as pd\n",
        "import numpy as np\n",
        "import re\n",
        "import os"
      ],
      "execution_count": null,
      "outputs": []
    },
    {
      "cell_type": "code",
      "metadata": {
        "id": "5p5qF4UUEzyU"
      },
      "source": [
        "dataset = pd.read_csv('covid_faq.csv')"
      ],
      "execution_count": null,
      "outputs": []
    },
    {
      "cell_type": "code",
      "metadata": {
        "colab": {
          "base_uri": "https://localhost:8080/",
          "height": 363
        },
        "id": "X7uR2HyYE5Iv",
        "outputId": "171a41f9-35da-4169-8a62-245ea07d39ec"
      },
      "source": [
        "dataset.head(10)"
      ],
      "execution_count": null,
      "outputs": [
        {
          "output_type": "execute_result",
          "data": {
            "text/html": [
              "<div>\n",
              "<style scoped>\n",
              "    .dataframe tbody tr th:only-of-type {\n",
              "        vertical-align: middle;\n",
              "    }\n",
              "\n",
              "    .dataframe tbody tr th {\n",
              "        vertical-align: top;\n",
              "    }\n",
              "\n",
              "    .dataframe thead th {\n",
              "        text-align: right;\n",
              "    }\n",
              "</style>\n",
              "<table border=\"1\" class=\"dataframe\">\n",
              "  <thead>\n",
              "    <tr style=\"text-align: right;\">\n",
              "      <th></th>\n",
              "      <th>questions</th>\n",
              "      <th>answers</th>\n",
              "    </tr>\n",
              "  </thead>\n",
              "  <tbody>\n",
              "    <tr>\n",
              "      <th>0</th>\n",
              "      <td>What is a novel coronavirus?</td>\n",
              "      <td>A novel coronavirus is a new coronavirus that ...</td>\n",
              "    </tr>\n",
              "    <tr>\n",
              "      <th>1</th>\n",
              "      <td>Why is the disease being called coronavirus di...</td>\n",
              "      <td>On February 11, 2020 the World Health Organiza...</td>\n",
              "    </tr>\n",
              "    <tr>\n",
              "      <th>2</th>\n",
              "      <td>How does the virus spread?</td>\n",
              "      <td>The virus that causes COVID-19 is thought to s...</td>\n",
              "    </tr>\n",
              "    <tr>\n",
              "      <th>3</th>\n",
              "      <td>Can I get COVID-19 from food (including restau...</td>\n",
              "      <td>Currently there is no evidence that people can...</td>\n",
              "    </tr>\n",
              "    <tr>\n",
              "      <th>4</th>\n",
              "      <td>Will warm weather stop the outbreak of COVID-19?</td>\n",
              "      <td>It is not yet known whether weather and temper...</td>\n",
              "    </tr>\n",
              "    <tr>\n",
              "      <th>5</th>\n",
              "      <td>What is community spread?</td>\n",
              "      <td>Community spread means people have been infect...</td>\n",
              "    </tr>\n",
              "    <tr>\n",
              "      <th>6</th>\n",
              "      <td>Can mosquitoes or ticks spread the virus that ...</td>\n",
              "      <td>At this time, CDC has no data to suggest that ...</td>\n",
              "    </tr>\n",
              "    <tr>\n",
              "      <th>7</th>\n",
              "      <td>How can I protect myself?</td>\n",
              "      <td>Visit the How to Protect Yourself &amp; Others pag...</td>\n",
              "    </tr>\n",
              "    <tr>\n",
              "      <th>8</th>\n",
              "      <td>Does CDC recommend the use of masks to prevent...</td>\n",
              "      <td>Wear masks in public settings when around peop...</td>\n",
              "    </tr>\n",
              "    <tr>\n",
              "      <th>9</th>\n",
              "      <td>Is it safe to get care for my other medical co...</td>\n",
              "      <td>It is important to continue taking care of you...</td>\n",
              "    </tr>\n",
              "  </tbody>\n",
              "</table>\n",
              "</div>"
            ],
            "text/plain": [
              "                                           questions                                            answers\n",
              "0                       What is a novel coronavirus?  A novel coronavirus is a new coronavirus that ...\n",
              "1  Why is the disease being called coronavirus di...  On February 11, 2020 the World Health Organiza...\n",
              "2                         How does the virus spread?  The virus that causes COVID-19 is thought to s...\n",
              "3  Can I get COVID-19 from food (including restau...  Currently there is no evidence that people can...\n",
              "4   Will warm weather stop the outbreak of COVID-19?  It is not yet known whether weather and temper...\n",
              "5                          What is community spread?  Community spread means people have been infect...\n",
              "6  Can mosquitoes or ticks spread the virus that ...  At this time, CDC has no data to suggest that ...\n",
              "7                          How can I protect myself?  Visit the How to Protect Yourself & Others pag...\n",
              "8  Does CDC recommend the use of masks to prevent...  Wear masks in public settings when around peop...\n",
              "9  Is it safe to get care for my other medical co...  It is important to continue taking care of you..."
            ]
          },
          "metadata": {
            "tags": []
          },
          "execution_count": 17
        }
      ]
    },
    {
      "cell_type": "markdown",
      "metadata": {
        "id": "2S2OD5CHPjJ3"
      },
      "source": [
        "We need to preprocess the data that is provided to us. This can be done by removing contractions, converting everything to lower case, removing punctuation marks, removing stopwords etc. \\\n"
      ]
    },
    {
      "cell_type": "code",
      "metadata": {
        "id": "Nt6Qmg_uE64Q"
      },
      "source": [
        "#dictionary for possible contractions\n",
        "contraction_mapping = {\"ain't\": \"is not\", \"aren't\": \"are not\",\"can't\": \"cannot\", \"'cause\": \"because\", \"could've\": \"could have\", \"couldn't\": \"could not\",\n",
        "                           \"didn't\": \"did not\",  \"doesn't\": \"does not\", \"don't\": \"do not\", \"hadn't\": \"had not\", \"hasn't\": \"has not\", \"haven't\": \"have not\",\n",
        "                           \"he'd\": \"he would\",\"he'll\": \"he will\", \"he's\": \"he is\", \"how'd\": \"how did\", \"how'd'y\": \"how do you\", \"how'll\": \"how will\", \"how's\": \"how is\",\n",
        "                           \"I'd\": \"I would\", \"I'd've\": \"I would have\", \"I'll\": \"I will\", \"I'll've\": \"I will have\",\"I'm\": \"I am\", \"I've\": \"I have\", \"i'd\": \"i would\",\n",
        "                           \"i'd've\": \"i would have\", \"i'll\": \"i will\",  \"i'll've\": \"i will have\",\"i'm\": \"i am\", \"i've\": \"i have\", \"isn't\": \"is not\", \"it'd\": \"it would\",\n",
        "                           \"it'd've\": \"it would have\", \"it'll\": \"it will\", \"it'll've\": \"it will have\",\"it's\": \"it is\", \"let's\": \"let us\", \"ma'am\": \"madam\",\n",
        "                           \"mayn't\": \"may not\", \"might've\": \"might have\",\"mightn't\": \"might not\",\"mightn't've\": \"might not have\", \"must've\": \"must have\",\n",
        "                           \"mustn't\": \"must not\", \"mustn't've\": \"must not have\", \"needn't\": \"need not\", \"needn't've\": \"need not have\",\"o'clock\": \"of the clock\",\n",
        "                           \"oughtn't\": \"ought not\", \"oughtn't've\": \"ought not have\", \"shan't\": \"shall not\", \"sha'n't\": \"shall not\", \"shan't've\": \"shall not have\",\n",
        "                           \"she'd\": \"she would\", \"she'd've\": \"she would have\", \"she'll\": \"she will\", \"she'll've\": \"she will have\", \"she's\": \"she is\",\n",
        "                           \"should've\": \"should have\", \"shouldn't\": \"should not\", \"shouldn't've\": \"should not have\", \"so've\": \"so have\",\"so's\": \"so as\",\n",
        "                           \"this's\": \"this is\",\"that'd\": \"that would\", \"that'd've\": \"that would have\", \"that's\": \"that is\", \"there'd\": \"there would\",\n",
        "                           \"there'd've\": \"there would have\", \"there's\": \"there is\", \"here's\": \"here is\",\"they'd\": \"they would\", \"they'd've\": \"they would have\",\n",
        "                           \"they'll\": \"they will\", \"they'll've\": \"they will have\", \"they're\": \"they are\", \"they've\": \"they have\", \"to've\": \"to have\",\n",
        "                           \"wasn't\": \"was not\", \"we'd\": \"we would\", \"we'd've\": \"we would have\", \"we'll\": \"we will\", \"we'll've\": \"we will have\", \"we're\": \"we are\",\n",
        "                           \"we've\": \"we have\", \"weren't\": \"were not\", \"what'll\": \"what will\", \"what'll've\": \"what will have\", \"what're\": \"what are\",\n",
        "                           \"what's\": \"what is\", \"what've\": \"what have\", \"when's\": \"when is\", \"when've\": \"when have\", \"where'd\": \"where did\", \"where's\": \"where is\",\n",
        "                           \"where've\": \"where have\", \"who'll\": \"who will\", \"who'll've\": \"who will have\", \"who's\": \"who is\", \"who've\": \"who have\",\n",
        "                           \"why's\": \"why is\", \"why've\": \"why have\", \"will've\": \"will have\", \"won't\": \"will not\", \"won't've\": \"will not have\",\n",
        "                           \"would've\": \"would have\", \"wouldn't\": \"would not\", \"wouldn't've\": \"would not have\", \"y'all\": \"you all\",\n",
        "                           \"y'all'd\": \"you all would\",\"y'all'd've\": \"you all would have\",\"y'all're\": \"you all are\",\"y'all've\": \"you all have\",\n",
        "                           \"you'd\": \"you would\", \"you'd've\": \"you would have\", \"you'll\": \"you will\", \"you'll've\": \"you will have\",\n",
        "                           \"you're\": \"you are\", \"you've\": \"you have\"}"
      ],
      "execution_count": null,
      "outputs": []
    },
    {
      "cell_type": "code",
      "metadata": {
        "id": "5E6Z_IlBP6Yt",
        "colab": {
          "base_uri": "https://localhost:8080/"
        },
        "outputId": "78271b1e-93fd-4e0f-b663-632aec9035de"
      },
      "source": [
        "#we will use the nltk library for downloading the stopwords\n",
        "import nltk\n",
        "from nltk.corpus import stopwords\n",
        "nltk.download('stopwords')"
      ],
      "execution_count": null,
      "outputs": [
        {
          "output_type": "stream",
          "text": [
            "[nltk_data] Downloading package stopwords to /root/nltk_data...\n",
            "[nltk_data]   Unzipping corpora/stopwords.zip.\n"
          ],
          "name": "stdout"
        },
        {
          "output_type": "execute_result",
          "data": {
            "text/plain": [
              "True"
            ]
          },
          "metadata": {
            "tags": []
          },
          "execution_count": 21
        }
      ]
    },
    {
      "cell_type": "code",
      "metadata": {
        "colab": {
          "base_uri": "https://localhost:8080/"
        },
        "id": "BAIP5ejKQ_xo",
        "outputId": "7dba8c19-0a89-487e-fa52-feafff06da8f"
      },
      "source": [
        "stop_words = set(stopwords.words('english'))\n",
        "print(stop_words)"
      ],
      "execution_count": null,
      "outputs": [
        {
          "output_type": "stream",
          "text": [
            "{'once', 'these', 'further', 'himself', 'than', 'will', 'having', 'don', 'but', \"you're\", 'not', 'doing', 'why', 'll', 'from', 'she', 'd', \"that'll\", 'when', \"hasn't\", 'the', 'over', 'very', 'all', 'up', 'hadn', 'during', 'whom', 'haven', 'own', 'was', 'after', 'other', 'being', 'myself', 'again', 'does', 'each', 'who', \"you'll\", 'what', 'yourselves', 'which', 'no', 'against', \"couldn't\", 'or', \"shouldn't\", \"hadn't\", 'me', 'o', 'mightn', 'by', 'themselves', 've', \"won't\", 'for', 't', 'shouldn', 'any', 'with', 'hers', \"wouldn't\", 'they', 'were', 'because', 'off', 'doesn', 'couldn', \"aren't\", \"weren't\", 'where', 'aren', 'out', 'most', 'same', 'now', \"she's\", 'ain', 'too', 'won', 'between', 's', 'before', 'down', 'ours', 'on', 'mustn', 'weren', 'those', 'above', \"isn't\", 'my', \"wasn't\", \"didn't\", 'itself', 'do', 'is', 'only', 'i', 'm', 'such', 'yourself', 'about', \"don't\", 'our', 'can', 'if', 'wouldn', 'then', 'through', \"doesn't\", 'yours', 'few', 'them', 'ma', 'in', 'has', 'isn', 'as', 'so', 'and', 'some', 'her', 'hasn', 'we', 'an', 'didn', 'are', 'am', 'needn', 'your', 'been', 'here', 'that', 'ourselves', 'had', 'of', 'you', 'into', 'y', 'him', 'both', \"mightn't\", 'he', 'below', 'it', \"you'd\", 'should', 'herself', \"should've\", 'how', 'to', 'there', \"mustn't\", 'shan', 'a', 'more', 'wasn', 'nor', \"you've\", \"shan't\", 'until', \"it's\", \"haven't\", 'his', 'its', 'this', 'under', 'did', 'at', 'have', 'while', 'just', \"needn't\", 'be', 're', 'their', 'theirs'}\n"
          ],
          "name": "stdout"
        }
      ]
    },
    {
      "cell_type": "markdown",
      "metadata": {
        "id": "oPOKKQZ1TzVn"
      },
      "source": [
        "In this case we need to remove the stopwords, contractions and remove all characeters that are not alphanumeric like punctuations, etc. \\\n",
        " \\\n",
        " The function that we define for cleaning our text will have an argument that lets us know if we if we want to keep the stopwords or not. This is important as some embeddings like BERT work well with stopwords, while others moght not give much good results"
      ]
    },
    {
      "cell_type": "code",
      "metadata": {
        "id": "ehNTYghzRJjd"
      },
      "source": [
        "def clean_text(text, remove_stopword=True):\n",
        "  #convert text to lowercase\n",
        "  newString = text.lower()  \n",
        "  #remove non alphanumeric characters\n",
        "  newString = re.sub(r\"[^a-zA-Z]\",\" \", newString)\n",
        "  #remove contractions\n",
        "  newString = ' '.join([contraction_mapping[i] if i in contraction_mapping else i for i in newString.split(\" \")])\n",
        "\n",
        "  #removing stopwords\n",
        "  if remove_stopword==True:\n",
        "    tokens = [w for w in newString.split() if not w in stop_words]\n",
        "  else:\n",
        "    tokens = newString.split()\n",
        "  long_words = []\n",
        "  for i in tokens:\n",
        "    if len(i)>1:\n",
        "      long_words.append(i)\n",
        "  return (\" \".join(long_words)).strip()"
      ],
      "execution_count": null,
      "outputs": []
    },
    {
      "cell_type": "code",
      "metadata": {
        "id": "qdHMxaA4adCn"
      },
      "source": [
        "#define a function to clean all the questions in the dataset\n",
        "def get_cleaned_sentences(dataset, remove_stopword=False):\n",
        "  orignal_sentences = dataset['questions']\n",
        "  cleaned_sentences = []\n",
        "  for index, row in dataset.iterrows():\n",
        "    cleaned_sentence = clean_text(row['questions'], remove_stopword)\n",
        "    cleaned_sentences.append(cleaned_sentence)\n",
        "  return cleaned_sentences"
      ],
      "execution_count": null,
      "outputs": []
    },
    {
      "cell_type": "markdown",
      "metadata": {
        "id": "p7hVWCvFcrJx"
      },
      "source": [
        "Let us print the cleaned questions from the dataset \\\n",
        "1. removing stopwords\n",
        "2. without removing stop words"
      ]
    },
    {
      "cell_type": "code",
      "metadata": {
        "colab": {
          "base_uri": "https://localhost:8080/"
        },
        "id": "ymMwD85QcmCU",
        "outputId": "ec62c165-087d-40c8-a4e2-4f65a98e1472"
      },
      "source": [
        "#sentences cleaned and containing stop words\n",
        "cleaned_sentences_with_stopwords = get_cleaned_sentences(dataset, remove_stopword=False)\n",
        "print(cleaned_sentences_with_stopwords)\n",
        "\n",
        "#sentences cleaned and not containing stopwords\n",
        "cleaned_sentences_without_stopwords = get_cleaned_sentences(dataset, remove_stopword=True)\n",
        "print(cleaned_sentences_without_stopwords)"
      ],
      "execution_count": null,
      "outputs": [
        {
          "output_type": "stream",
          "text": [
            "['what is novel coronavirus', 'why is the disease being called coronavirus disease covid', 'how does the virus spread', 'can get covid from food including restaurant take out produce refrigerated or packaged food or drinking water', 'will warm weather stop the outbreak of covid', 'what is community spread', 'can mosquitoes or ticks spread the virus that causes covid', 'how can protect myself', 'does cdc recommend the use of masks to prevent covid', 'is it safe to get care for my other medical conditions during this time', 'am at risk for covid from mail packages or products', 'is it okay for me to donate blood', 'should contact lens wearers take special precautions to prevent covid', 'is contact lens disinfecting solution effective against covid', 'should use soap and water or hand sanitizer to protect against covid', 'what cleaning products should use to protect against covid', 'what should do if get sick or someone in my house gets sick', 'what should do if have had close contact with someone who has covid', 'what is the risk of my child becoming sick with covid', 'how can protect my child from covid infection', 'are the symptoms of covid different in children than in adults', 'should children wear masks', 'how do prepare my children in case of covid outbreak in our community', 'what is multisystem inflammatory syndrome in children mis and who is at risk', 'can my child hang out with their friends', 'how can help my child continue learning', 'will kids have access to school meals', 'how can keep my children healthy', 'limit time with older adults including relatives and people with chronic medical conditions', 'is my child with an underlying medical condition at higher risk for severe illness from covid', 'what additional steps should families that have child with an underlying medical condition take', 'what can do if my child has difficulties adjusting to new routines and following recommendations', 'how can my family cope with the added stress', 'what if my child or someone else in the home is sick with symptoms of covid', 'what if my child symptoms of their underlying medical condition or complex chronic medical condition get worse', 'what if my child needs to go to the hospital', 'how can prepare for an outbreak in my area', 'how can prepare for covid at work', 'should make my own hand sanitizer if can find it in the stores', 'what are the symptoms and complications that covid can cause', 'when should seek emergency care if have covid', 'is it possible to have the flu and covid at the same time', 'should be tested for current infection', 'how can get tested for current infection viral test and what does my test mean', 'how can get tested for past infection antibody test and what does my test mean', 'can someone test negative and later test positive on viral test for covid', 'who is at higher risk for serious illness from covid', 'what should people at higher risk of serious illness with covid do', 'are people with disabilities at higher risk', 'what is contact tracing', 'what will happen with my personal information during contact tracing', 'who is considered close contact to someone with covid', 'am considered close contact if was wearing mask', 'if am close contact will be tested for covid', 'what will happen during contact tracing if am diagnosed with covid', 'what will happen during contact tracing if have been around someone with covid', 'was around someone who has covid and my covid test came back negative do still need to quarantine for days after was last exposed', 'was recently around someone who has covid but feel fine why should stay at home', 'what if have been around someone who was identified as close contact', 'will there be national app for contact tracing', 'if participate in contact tracing for covid using digital tool is my personal health information secure', 'will be required to download contact tracing app for covid on my phone', 'am at risk if go to funeral or visitation service for someone who died of covid', 'am at risk if touch someone who died of covid after they have passed away', 'how can loved ones safely handle belongings of someone who died from covid', 'what should do if my family member died from covid while overseas', 'my family member died from covid while overseas what are the requirements for returning the body to the united states', 'what is the difference between cleaning and disinfecting', 'is it safe to vacuum in school business or community facility after someone with suspected or confirmed covid has been present', 'what is routine cleaning how frequently should facilities be cleaned to reduce the potential spread of covid', 'is cleaning alone effective against the virus that causes covid', 'who should clean and disinfect community spaces', 'how long do companies need to close for disinfection after an exposure how long before other workers can come back to work', 'how effective are alternative disinfection methods such as ultrasonic waves high intensity uv radiation and led blue light', 'should outdoor playgrounds like those at schools or in parks be cleaned and disinfected to prevent covid', 'can sanitizing tunnels be used at building entrances or exits to prevent the spread of covid', 'should sidewalks and roads be disinfected to prevent covid', 'can get covid from my pets or other animals', 'do need to get my pet tested for covid', 'can animals carry the virus that causes covid on their skin or fur', 'should avoid contact with pets or other animals if am sick with covid', 'what animals can get covid', 'should worry about my pet cat', 'can walk my dog during the covid pandemic', 'can take my dog to dog park', 'can take my dog to daycare or groomer', 'what should do if my pet gets sick and think it covid', 'why are animals being tested when many people can get tested', 'are pets from shelter safe to adopt', 'what should do if there are pets at my long term care facility or assisted living facility', 'what about imported animals or animal products', 'can travel to the united states with dogs or import dogs into the united states during the covid outbreak', 'what precautions should be taken for animals that have recently been imported from outside the united states for example by shelters rescues or as personal pets', 'can wild animals spread the virus that causes covid to people or pets', 'can bats in united states get the virus that causes covid and can they spread it back to people', 'is hunter harvested game meat safe to eat during the covid pandemic', 'how can safely run my equestrian facility', 'what is community mitigation', 'what are community mitigation actions for covid', 'who is involved in community mitigation actions', 'can the virus that causes covid spread through treated drinking water', 'is the virus that causes covid found in feces stool', 'can the covid virus spread through sewerage systems', 'should wastewater workers take extra precautions to protect themselves from the virus that causes covid', 'if my utility has issued boil water advisory can still use tap water to wash my hands', 'can the virus that causes covid spread to people through the water in pools hot tubs or water playgrounds', 'can the virus that causes covid spread to people through the water in saltwater pools', 'can the virus that causes covid spread to people through the water in lakes oceans or rivers', 'can cloth masks be worn in the water', 'can lycra spandex or elastane the cloth used to make swimsuits be used to make cloth masks', 'how many people visitors and staff can be in and around public pool hot tub or water playground such as at an apartment complex or owned by community at the same time', 'can use pool hot tub or water playground water to disinfect surfaces or shared objects', 'can the sun ultraviolet uv light disinfect surfaces and shared objects', 'how often do surfaces such as handrails and in bathrooms at public pools hot tubs or water playgrounds such as at an apartment complex or owned by community need to be cleaned and disinfected', 'do procedures for responding to formed fecal poop or diarrheal incidents in public pools hot tubs or water playgrounds such as at an apartment complex or owned by community need to change during the covid pandemic', 'can lifeguards monitor how visitors socially distance stay at least feet apart from people you don live with wear cloth masks or wash hands', 'how can the spread of the virus that causes covid be slowed during lifeguard training']\n",
            "['novel coronavirus', 'disease called coronavirus disease covid', 'virus spread', 'get covid food including restaurant take produce refrigerated packaged food drinking water', 'warm weather stop outbreak covid', 'community spread', 'mosquitoes ticks spread virus causes covid', 'protect', 'cdc recommend use masks prevent covid', 'safe get care medical conditions time', 'risk covid mail packages products', 'okay donate blood', 'contact lens wearers take special precautions prevent covid', 'contact lens disinfecting solution effective covid', 'use soap water hand sanitizer protect covid', 'cleaning products use protect covid', 'get sick someone house gets sick', 'close contact someone covid', 'risk child becoming sick covid', 'protect child covid infection', 'symptoms covid different children adults', 'children wear masks', 'prepare children case covid outbreak community', 'multisystem inflammatory syndrome children mis risk', 'child hang friends', 'help child continue learning', 'kids access school meals', 'keep children healthy', 'limit time older adults including relatives people chronic medical conditions', 'child underlying medical condition higher risk severe illness covid', 'additional steps families child underlying medical condition take', 'child difficulties adjusting new routines following recommendations', 'family cope added stress', 'child someone else home sick symptoms covid', 'child symptoms underlying medical condition complex chronic medical condition get worse', 'child needs go hospital', 'prepare outbreak area', 'prepare covid work', 'make hand sanitizer find stores', 'symptoms complications covid cause', 'seek emergency care covid', 'possible flu covid time', 'tested current infection', 'get tested current infection viral test test mean', 'get tested past infection antibody test test mean', 'someone test negative later test positive viral test covid', 'higher risk serious illness covid', 'people higher risk serious illness covid', 'people disabilities higher risk', 'contact tracing', 'happen personal information contact tracing', 'considered close contact someone covid', 'considered close contact wearing mask', 'close contact tested covid', 'happen contact tracing diagnosed covid', 'happen contact tracing around someone covid', 'around someone covid covid test came back negative still need quarantine days last exposed', 'recently around someone covid feel fine stay home', 'around someone identified close contact', 'national app contact tracing', 'participate contact tracing covid using digital tool personal health information secure', 'required download contact tracing app covid phone', 'risk go funeral visitation service someone died covid', 'risk touch someone died covid passed away', 'loved ones safely handle belongings someone died covid', 'family member died covid overseas', 'family member died covid overseas requirements returning body united states', 'difference cleaning disinfecting', 'safe vacuum school business community facility someone suspected confirmed covid present', 'routine cleaning frequently facilities cleaned reduce potential spread covid', 'cleaning alone effective virus causes covid', 'clean disinfect community spaces', 'long companies need close disinfection exposure long workers come back work', 'effective alternative disinfection methods ultrasonic waves high intensity uv radiation led blue light', 'outdoor playgrounds like schools parks cleaned disinfected prevent covid', 'sanitizing tunnels used building entrances exits prevent spread covid', 'sidewalks roads disinfected prevent covid', 'get covid pets animals', 'need get pet tested covid', 'animals carry virus causes covid skin fur', 'avoid contact pets animals sick covid', 'animals get covid', 'worry pet cat', 'walk dog covid pandemic', 'take dog dog park', 'take dog daycare groomer', 'pet gets sick think covid', 'animals tested many people get tested', 'pets shelter safe adopt', 'pets long term care facility assisted living facility', 'imported animals animal products', 'travel united states dogs import dogs united states covid outbreak', 'precautions taken animals recently imported outside united states example shelters rescues personal pets', 'wild animals spread virus causes covid people pets', 'bats united states get virus causes covid spread back people', 'hunter harvested game meat safe eat covid pandemic', 'safely run equestrian facility', 'community mitigation', 'community mitigation actions covid', 'involved community mitigation actions', 'virus causes covid spread treated drinking water', 'virus causes covid found feces stool', 'covid virus spread sewerage systems', 'wastewater workers take extra precautions protect virus causes covid', 'utility issued boil water advisory still use tap water wash hands', 'virus causes covid spread people water pools hot tubs water playgrounds', 'virus causes covid spread people water saltwater pools', 'virus causes covid spread people water lakes oceans rivers', 'cloth masks worn water', 'lycra spandex elastane cloth used make swimsuits used make cloth masks', 'many people visitors staff around public pool hot tub water playground apartment complex owned community time', 'use pool hot tub water playground water disinfect surfaces shared objects', 'sun ultraviolet uv light disinfect surfaces shared objects', 'often surfaces handrails bathrooms public pools hot tubs water playgrounds apartment complex owned community need cleaned disinfected', 'procedures responding formed fecal poop diarrheal incidents public pools hot tubs water playgrounds apartment complex owned community need change covid pandemic', 'lifeguards monitor visitors socially distance stay least feet apart people live wear cloth masks wash hands', 'spread virus causes covid slowed lifeguard training']\n"
          ],
          "name": "stdout"
        }
      ]
    },
    {
      "cell_type": "markdown",
      "metadata": {
        "id": "eHMUrb6VeRK1"
      },
      "source": [
        "## 1. Bag of Words (BOW)\n",
        "Here a vector for the sentence is formed whose length is equal to the number of words in the vocabulary. Each element of the vector represents the number of times a words appears in the sentence.\n"
      ]
    },
    {
      "cell_type": "code",
      "metadata": {
        "id": "XsE0qcgGdgfT"
      },
      "source": [
        "sentences = cleaned_sentences_with_stopwords\n",
        "\n",
        "#split on the basis of white spaces to form the vocabulary\n",
        "sentence_words = [[word for word in document.split()]for document in sentences]"
      ],
      "execution_count": null,
      "outputs": []
    },
    {
      "cell_type": "code",
      "metadata": {
        "colab": {
          "base_uri": "https://localhost:8080/"
        },
        "id": "2ctMGHUDjN8B",
        "outputId": "4fdca2dc-f78d-45da-ab35-a0aeb8977928"
      },
      "source": [
        "from gensim import corpora\n",
        "#form a dictionary of words: vocabulary\n",
        "dictionary = corpora.Dictionary(sentence_words)\n",
        "for key, value in dictionary.items():\n",
        "  print(key,\":\",value)\n",
        "\n",
        "#print the embedding for our dataset\n",
        "bow_corpus = [dictionary.doc2bow(text) for text in sentence_words]\n",
        "for sentence, embedding in zip(sentences,bow_corpus):\n",
        "  print(sentence)\n",
        "  print(embedding)"
      ],
      "execution_count": null,
      "outputs": [
        {
          "output_type": "stream",
          "text": [
            "0 : coronavirus\n",
            "1 : is\n",
            "2 : novel\n",
            "3 : what\n",
            "4 : being\n",
            "5 : called\n",
            "6 : covid\n",
            "7 : disease\n",
            "8 : the\n",
            "9 : why\n",
            "10 : does\n",
            "11 : how\n",
            "12 : spread\n",
            "13 : virus\n",
            "14 : can\n",
            "15 : drinking\n",
            "16 : food\n",
            "17 : from\n",
            "18 : get\n",
            "19 : including\n",
            "20 : or\n",
            "21 : out\n",
            "22 : packaged\n",
            "23 : produce\n",
            "24 : refrigerated\n",
            "25 : restaurant\n",
            "26 : take\n",
            "27 : water\n",
            "28 : of\n",
            "29 : outbreak\n",
            "30 : stop\n",
            "31 : warm\n",
            "32 : weather\n",
            "33 : will\n",
            "34 : community\n",
            "35 : causes\n",
            "36 : mosquitoes\n",
            "37 : that\n",
            "38 : ticks\n",
            "39 : myself\n",
            "40 : protect\n",
            "41 : cdc\n",
            "42 : masks\n",
            "43 : prevent\n",
            "44 : recommend\n",
            "45 : to\n",
            "46 : use\n",
            "47 : care\n",
            "48 : conditions\n",
            "49 : during\n",
            "50 : for\n",
            "51 : it\n",
            "52 : medical\n",
            "53 : my\n",
            "54 : other\n",
            "55 : safe\n",
            "56 : this\n",
            "57 : time\n",
            "58 : am\n",
            "59 : at\n",
            "60 : mail\n",
            "61 : packages\n",
            "62 : products\n",
            "63 : risk\n",
            "64 : blood\n",
            "65 : donate\n",
            "66 : me\n",
            "67 : okay\n",
            "68 : contact\n",
            "69 : lens\n",
            "70 : precautions\n",
            "71 : should\n",
            "72 : special\n",
            "73 : wearers\n",
            "74 : against\n",
            "75 : disinfecting\n",
            "76 : effective\n",
            "77 : solution\n",
            "78 : and\n",
            "79 : hand\n",
            "80 : sanitizer\n",
            "81 : soap\n",
            "82 : cleaning\n",
            "83 : do\n",
            "84 : gets\n",
            "85 : house\n",
            "86 : if\n",
            "87 : in\n",
            "88 : sick\n",
            "89 : someone\n",
            "90 : close\n",
            "91 : had\n",
            "92 : has\n",
            "93 : have\n",
            "94 : who\n",
            "95 : with\n",
            "96 : becoming\n",
            "97 : child\n",
            "98 : infection\n",
            "99 : adults\n",
            "100 : are\n",
            "101 : children\n",
            "102 : different\n",
            "103 : symptoms\n",
            "104 : than\n",
            "105 : wear\n",
            "106 : case\n",
            "107 : our\n",
            "108 : prepare\n",
            "109 : inflammatory\n",
            "110 : mis\n",
            "111 : multisystem\n",
            "112 : syndrome\n",
            "113 : friends\n",
            "114 : hang\n",
            "115 : their\n",
            "116 : continue\n",
            "117 : help\n",
            "118 : learning\n",
            "119 : access\n",
            "120 : kids\n",
            "121 : meals\n",
            "122 : school\n",
            "123 : healthy\n",
            "124 : keep\n",
            "125 : chronic\n",
            "126 : limit\n",
            "127 : older\n",
            "128 : people\n",
            "129 : relatives\n",
            "130 : an\n",
            "131 : condition\n",
            "132 : higher\n",
            "133 : illness\n",
            "134 : severe\n",
            "135 : underlying\n",
            "136 : additional\n",
            "137 : families\n",
            "138 : steps\n",
            "139 : adjusting\n",
            "140 : difficulties\n",
            "141 : following\n",
            "142 : new\n",
            "143 : recommendations\n",
            "144 : routines\n",
            "145 : added\n",
            "146 : cope\n",
            "147 : family\n",
            "148 : stress\n",
            "149 : else\n",
            "150 : home\n",
            "151 : complex\n",
            "152 : worse\n",
            "153 : go\n",
            "154 : hospital\n",
            "155 : needs\n",
            "156 : area\n",
            "157 : work\n",
            "158 : find\n",
            "159 : make\n",
            "160 : own\n",
            "161 : stores\n",
            "162 : cause\n",
            "163 : complications\n",
            "164 : emergency\n",
            "165 : seek\n",
            "166 : when\n",
            "167 : flu\n",
            "168 : possible\n",
            "169 : same\n",
            "170 : be\n",
            "171 : current\n",
            "172 : tested\n",
            "173 : mean\n",
            "174 : test\n",
            "175 : viral\n",
            "176 : antibody\n",
            "177 : past\n",
            "178 : later\n",
            "179 : negative\n",
            "180 : on\n",
            "181 : positive\n",
            "182 : serious\n",
            "183 : disabilities\n",
            "184 : tracing\n",
            "185 : happen\n",
            "186 : information\n",
            "187 : personal\n",
            "188 : considered\n",
            "189 : mask\n",
            "190 : was\n",
            "191 : wearing\n",
            "192 : diagnosed\n",
            "193 : around\n",
            "194 : been\n",
            "195 : after\n",
            "196 : back\n",
            "197 : came\n",
            "198 : days\n",
            "199 : exposed\n",
            "200 : last\n",
            "201 : need\n",
            "202 : quarantine\n",
            "203 : still\n",
            "204 : but\n",
            "205 : feel\n",
            "206 : fine\n",
            "207 : recently\n",
            "208 : stay\n",
            "209 : as\n",
            "210 : identified\n",
            "211 : app\n",
            "212 : national\n",
            "213 : there\n",
            "214 : digital\n",
            "215 : health\n",
            "216 : participate\n",
            "217 : secure\n",
            "218 : tool\n",
            "219 : using\n",
            "220 : download\n",
            "221 : phone\n",
            "222 : required\n",
            "223 : died\n",
            "224 : funeral\n",
            "225 : service\n",
            "226 : visitation\n",
            "227 : away\n",
            "228 : passed\n",
            "229 : they\n",
            "230 : touch\n",
            "231 : belongings\n",
            "232 : handle\n",
            "233 : loved\n",
            "234 : ones\n",
            "235 : safely\n",
            "236 : member\n",
            "237 : overseas\n",
            "238 : while\n",
            "239 : body\n",
            "240 : requirements\n",
            "241 : returning\n",
            "242 : states\n",
            "243 : united\n",
            "244 : between\n",
            "245 : difference\n",
            "246 : business\n",
            "247 : confirmed\n",
            "248 : facility\n",
            "249 : present\n",
            "250 : suspected\n",
            "251 : vacuum\n",
            "252 : cleaned\n",
            "253 : facilities\n",
            "254 : frequently\n",
            "255 : potential\n",
            "256 : reduce\n",
            "257 : routine\n",
            "258 : alone\n",
            "259 : clean\n",
            "260 : disinfect\n",
            "261 : spaces\n",
            "262 : before\n",
            "263 : come\n",
            "264 : companies\n",
            "265 : disinfection\n",
            "266 : exposure\n",
            "267 : long\n",
            "268 : workers\n",
            "269 : alternative\n",
            "270 : blue\n",
            "271 : high\n",
            "272 : intensity\n",
            "273 : led\n",
            "274 : light\n",
            "275 : methods\n",
            "276 : radiation\n",
            "277 : such\n",
            "278 : ultrasonic\n",
            "279 : uv\n",
            "280 : waves\n",
            "281 : disinfected\n",
            "282 : like\n",
            "283 : outdoor\n",
            "284 : parks\n",
            "285 : playgrounds\n",
            "286 : schools\n",
            "287 : those\n",
            "288 : building\n",
            "289 : entrances\n",
            "290 : exits\n",
            "291 : sanitizing\n",
            "292 : tunnels\n",
            "293 : used\n",
            "294 : roads\n",
            "295 : sidewalks\n",
            "296 : animals\n",
            "297 : pets\n",
            "298 : pet\n",
            "299 : carry\n",
            "300 : fur\n",
            "301 : skin\n",
            "302 : avoid\n",
            "303 : about\n",
            "304 : cat\n",
            "305 : worry\n",
            "306 : dog\n",
            "307 : pandemic\n",
            "308 : walk\n",
            "309 : park\n",
            "310 : daycare\n",
            "311 : groomer\n",
            "312 : think\n",
            "313 : many\n",
            "314 : adopt\n",
            "315 : shelter\n",
            "316 : assisted\n",
            "317 : living\n",
            "318 : term\n",
            "319 : animal\n",
            "320 : imported\n",
            "321 : dogs\n",
            "322 : import\n",
            "323 : into\n",
            "324 : travel\n",
            "325 : by\n",
            "326 : example\n",
            "327 : outside\n",
            "328 : rescues\n",
            "329 : shelters\n",
            "330 : taken\n",
            "331 : wild\n",
            "332 : bats\n",
            "333 : eat\n",
            "334 : game\n",
            "335 : harvested\n",
            "336 : hunter\n",
            "337 : meat\n",
            "338 : equestrian\n",
            "339 : run\n",
            "340 : mitigation\n",
            "341 : actions\n",
            "342 : involved\n",
            "343 : through\n",
            "344 : treated\n",
            "345 : feces\n",
            "346 : found\n",
            "347 : stool\n",
            "348 : sewerage\n",
            "349 : systems\n",
            "350 : extra\n",
            "351 : themselves\n",
            "352 : wastewater\n",
            "353 : advisory\n",
            "354 : boil\n",
            "355 : hands\n",
            "356 : issued\n",
            "357 : tap\n",
            "358 : utility\n",
            "359 : wash\n",
            "360 : hot\n",
            "361 : pools\n",
            "362 : tubs\n",
            "363 : saltwater\n",
            "364 : lakes\n",
            "365 : oceans\n",
            "366 : rivers\n",
            "367 : cloth\n",
            "368 : worn\n",
            "369 : elastane\n",
            "370 : lycra\n",
            "371 : spandex\n",
            "372 : swimsuits\n",
            "373 : apartment\n",
            "374 : owned\n",
            "375 : playground\n",
            "376 : pool\n",
            "377 : public\n",
            "378 : staff\n",
            "379 : tub\n",
            "380 : visitors\n",
            "381 : objects\n",
            "382 : shared\n",
            "383 : surfaces\n",
            "384 : sun\n",
            "385 : ultraviolet\n",
            "386 : bathrooms\n",
            "387 : handrails\n",
            "388 : often\n",
            "389 : change\n",
            "390 : diarrheal\n",
            "391 : fecal\n",
            "392 : formed\n",
            "393 : incidents\n",
            "394 : poop\n",
            "395 : procedures\n",
            "396 : responding\n",
            "397 : apart\n",
            "398 : distance\n",
            "399 : don\n",
            "400 : feet\n",
            "401 : least\n",
            "402 : lifeguards\n",
            "403 : live\n",
            "404 : monitor\n",
            "405 : socially\n",
            "406 : you\n",
            "407 : lifeguard\n",
            "408 : slowed\n",
            "409 : training\n",
            "what is novel coronavirus\n",
            "[(0, 1), (1, 1), (2, 1), (3, 1)]\n",
            "why is the disease being called coronavirus disease covid\n",
            "[(0, 1), (1, 1), (4, 1), (5, 1), (6, 1), (7, 2), (8, 1), (9, 1)]\n",
            "how does the virus spread\n",
            "[(8, 1), (10, 1), (11, 1), (12, 1), (13, 1)]\n",
            "can get covid from food including restaurant take out produce refrigerated or packaged food or drinking water\n",
            "[(6, 1), (14, 1), (15, 1), (16, 2), (17, 1), (18, 1), (19, 1), (20, 2), (21, 1), (22, 1), (23, 1), (24, 1), (25, 1), (26, 1), (27, 1)]\n",
            "will warm weather stop the outbreak of covid\n",
            "[(6, 1), (8, 1), (28, 1), (29, 1), (30, 1), (31, 1), (32, 1), (33, 1)]\n",
            "what is community spread\n",
            "[(1, 1), (3, 1), (12, 1), (34, 1)]\n",
            "can mosquitoes or ticks spread the virus that causes covid\n",
            "[(6, 1), (8, 1), (12, 1), (13, 1), (14, 1), (20, 1), (35, 1), (36, 1), (37, 1), (38, 1)]\n",
            "how can protect myself\n",
            "[(11, 1), (14, 1), (39, 1), (40, 1)]\n",
            "does cdc recommend the use of masks to prevent covid\n",
            "[(6, 1), (8, 1), (10, 1), (28, 1), (41, 1), (42, 1), (43, 1), (44, 1), (45, 1), (46, 1)]\n",
            "is it safe to get care for my other medical conditions during this time\n",
            "[(1, 1), (18, 1), (45, 1), (47, 1), (48, 1), (49, 1), (50, 1), (51, 1), (52, 1), (53, 1), (54, 1), (55, 1), (56, 1), (57, 1)]\n",
            "am at risk for covid from mail packages or products\n",
            "[(6, 1), (17, 1), (20, 1), (50, 1), (58, 1), (59, 1), (60, 1), (61, 1), (62, 1), (63, 1)]\n",
            "is it okay for me to donate blood\n",
            "[(1, 1), (45, 1), (50, 1), (51, 1), (64, 1), (65, 1), (66, 1), (67, 1)]\n",
            "should contact lens wearers take special precautions to prevent covid\n",
            "[(6, 1), (26, 1), (43, 1), (45, 1), (68, 1), (69, 1), (70, 1), (71, 1), (72, 1), (73, 1)]\n",
            "is contact lens disinfecting solution effective against covid\n",
            "[(1, 1), (6, 1), (68, 1), (69, 1), (74, 1), (75, 1), (76, 1), (77, 1)]\n",
            "should use soap and water or hand sanitizer to protect against covid\n",
            "[(6, 1), (20, 1), (27, 1), (40, 1), (45, 1), (46, 1), (71, 1), (74, 1), (78, 1), (79, 1), (80, 1), (81, 1)]\n",
            "what cleaning products should use to protect against covid\n",
            "[(3, 1), (6, 1), (40, 1), (45, 1), (46, 1), (62, 1), (71, 1), (74, 1), (82, 1)]\n",
            "what should do if get sick or someone in my house gets sick\n",
            "[(3, 1), (18, 1), (20, 1), (53, 1), (71, 1), (83, 1), (84, 1), (85, 1), (86, 1), (87, 1), (88, 2), (89, 1)]\n",
            "what should do if have had close contact with someone who has covid\n",
            "[(3, 1), (6, 1), (68, 1), (71, 1), (83, 1), (86, 1), (89, 1), (90, 1), (91, 1), (92, 1), (93, 1), (94, 1), (95, 1)]\n",
            "what is the risk of my child becoming sick with covid\n",
            "[(1, 1), (3, 1), (6, 1), (8, 1), (28, 1), (53, 1), (63, 1), (88, 1), (95, 1), (96, 1), (97, 1)]\n",
            "how can protect my child from covid infection\n",
            "[(6, 1), (11, 1), (14, 1), (17, 1), (40, 1), (53, 1), (97, 1), (98, 1)]\n",
            "are the symptoms of covid different in children than in adults\n",
            "[(6, 1), (8, 1), (28, 1), (87, 2), (99, 1), (100, 1), (101, 1), (102, 1), (103, 1), (104, 1)]\n",
            "should children wear masks\n",
            "[(42, 1), (71, 1), (101, 1), (105, 1)]\n",
            "how do prepare my children in case of covid outbreak in our community\n",
            "[(6, 1), (11, 1), (28, 1), (29, 1), (34, 1), (53, 1), (83, 1), (87, 2), (101, 1), (106, 1), (107, 1), (108, 1)]\n",
            "what is multisystem inflammatory syndrome in children mis and who is at risk\n",
            "[(1, 2), (3, 1), (59, 1), (63, 1), (78, 1), (87, 1), (94, 1), (101, 1), (109, 1), (110, 1), (111, 1), (112, 1)]\n",
            "can my child hang out with their friends\n",
            "[(14, 1), (21, 1), (53, 1), (95, 1), (97, 1), (113, 1), (114, 1), (115, 1)]\n",
            "how can help my child continue learning\n",
            "[(11, 1), (14, 1), (53, 1), (97, 1), (116, 1), (117, 1), (118, 1)]\n",
            "will kids have access to school meals\n",
            "[(33, 1), (45, 1), (93, 1), (119, 1), (120, 1), (121, 1), (122, 1)]\n",
            "how can keep my children healthy\n",
            "[(11, 1), (14, 1), (53, 1), (101, 1), (123, 1), (124, 1)]\n",
            "limit time with older adults including relatives and people with chronic medical conditions\n",
            "[(19, 1), (48, 1), (52, 1), (57, 1), (78, 1), (95, 2), (99, 1), (125, 1), (126, 1), (127, 1), (128, 1), (129, 1)]\n",
            "is my child with an underlying medical condition at higher risk for severe illness from covid\n",
            "[(1, 1), (6, 1), (17, 1), (50, 1), (52, 1), (53, 1), (59, 1), (63, 1), (95, 1), (97, 1), (130, 1), (131, 1), (132, 1), (133, 1), (134, 1), (135, 1)]\n",
            "what additional steps should families that have child with an underlying medical condition take\n",
            "[(3, 1), (26, 1), (37, 1), (52, 1), (71, 1), (93, 1), (95, 1), (97, 1), (130, 1), (131, 1), (135, 1), (136, 1), (137, 1), (138, 1)]\n",
            "what can do if my child has difficulties adjusting to new routines and following recommendations\n",
            "[(3, 1), (14, 1), (45, 1), (53, 1), (78, 1), (83, 1), (86, 1), (92, 1), (97, 1), (139, 1), (140, 1), (141, 1), (142, 1), (143, 1), (144, 1)]\n",
            "how can my family cope with the added stress\n",
            "[(8, 1), (11, 1), (14, 1), (53, 1), (95, 1), (145, 1), (146, 1), (147, 1), (148, 1)]\n",
            "what if my child or someone else in the home is sick with symptoms of covid\n",
            "[(1, 1), (3, 1), (6, 1), (8, 1), (20, 1), (28, 1), (53, 1), (86, 1), (87, 1), (88, 1), (89, 1), (95, 1), (97, 1), (103, 1), (149, 1), (150, 1)]\n",
            "what if my child symptoms of their underlying medical condition or complex chronic medical condition get worse\n",
            "[(3, 1), (18, 1), (20, 1), (28, 1), (52, 2), (53, 1), (86, 1), (97, 1), (103, 1), (115, 1), (125, 1), (131, 2), (135, 1), (151, 1), (152, 1)]\n",
            "what if my child needs to go to the hospital\n",
            "[(3, 1), (8, 1), (45, 2), (53, 1), (86, 1), (97, 1), (153, 1), (154, 1), (155, 1)]\n",
            "how can prepare for an outbreak in my area\n",
            "[(11, 1), (14, 1), (29, 1), (50, 1), (53, 1), (87, 1), (108, 1), (130, 1), (156, 1)]\n",
            "how can prepare for covid at work\n",
            "[(6, 1), (11, 1), (14, 1), (50, 1), (59, 1), (108, 1), (157, 1)]\n",
            "should make my own hand sanitizer if can find it in the stores\n",
            "[(8, 1), (14, 1), (51, 1), (53, 1), (71, 1), (79, 1), (80, 1), (86, 1), (87, 1), (158, 1), (159, 1), (160, 1), (161, 1)]\n",
            "what are the symptoms and complications that covid can cause\n",
            "[(3, 1), (6, 1), (8, 1), (14, 1), (37, 1), (78, 1), (100, 1), (103, 1), (162, 1), (163, 1)]\n",
            "when should seek emergency care if have covid\n",
            "[(6, 1), (47, 1), (71, 1), (86, 1), (93, 1), (164, 1), (165, 1), (166, 1)]\n",
            "is it possible to have the flu and covid at the same time\n",
            "[(1, 1), (6, 1), (8, 2), (45, 1), (51, 1), (57, 1), (59, 1), (78, 1), (93, 1), (167, 1), (168, 1), (169, 1)]\n",
            "should be tested for current infection\n",
            "[(50, 1), (71, 1), (98, 1), (170, 1), (171, 1), (172, 1)]\n",
            "how can get tested for current infection viral test and what does my test mean\n",
            "[(3, 1), (10, 1), (11, 1), (14, 1), (18, 1), (50, 1), (53, 1), (78, 1), (98, 1), (171, 1), (172, 1), (173, 1), (174, 2), (175, 1)]\n",
            "how can get tested for past infection antibody test and what does my test mean\n",
            "[(3, 1), (10, 1), (11, 1), (14, 1), (18, 1), (50, 1), (53, 1), (78, 1), (98, 1), (172, 1), (173, 1), (174, 2), (176, 1), (177, 1)]\n",
            "can someone test negative and later test positive on viral test for covid\n",
            "[(6, 1), (14, 1), (50, 1), (78, 1), (89, 1), (174, 3), (175, 1), (178, 1), (179, 1), (180, 1), (181, 1)]\n",
            "who is at higher risk for serious illness from covid\n",
            "[(1, 1), (6, 1), (17, 1), (50, 1), (59, 1), (63, 1), (94, 1), (132, 1), (133, 1), (182, 1)]\n",
            "what should people at higher risk of serious illness with covid do\n",
            "[(3, 1), (6, 1), (28, 1), (59, 1), (63, 1), (71, 1), (83, 1), (95, 1), (128, 1), (132, 1), (133, 1), (182, 1)]\n",
            "are people with disabilities at higher risk\n",
            "[(59, 1), (63, 1), (95, 1), (100, 1), (128, 1), (132, 1), (183, 1)]\n",
            "what is contact tracing\n",
            "[(1, 1), (3, 1), (68, 1), (184, 1)]\n",
            "what will happen with my personal information during contact tracing\n",
            "[(3, 1), (33, 1), (49, 1), (53, 1), (68, 1), (95, 1), (184, 1), (185, 1), (186, 1), (187, 1)]\n",
            "who is considered close contact to someone with covid\n",
            "[(1, 1), (6, 1), (45, 1), (68, 1), (89, 1), (90, 1), (94, 1), (95, 1), (188, 1)]\n",
            "am considered close contact if was wearing mask\n",
            "[(58, 1), (68, 1), (86, 1), (90, 1), (188, 1), (189, 1), (190, 1), (191, 1)]\n",
            "if am close contact will be tested for covid\n",
            "[(6, 1), (33, 1), (50, 1), (58, 1), (68, 1), (86, 1), (90, 1), (170, 1), (172, 1)]\n",
            "what will happen during contact tracing if am diagnosed with covid\n",
            "[(3, 1), (6, 1), (33, 1), (49, 1), (58, 1), (68, 1), (86, 1), (95, 1), (184, 1), (185, 1), (192, 1)]\n",
            "what will happen during contact tracing if have been around someone with covid\n",
            "[(3, 1), (6, 1), (33, 1), (49, 1), (68, 1), (86, 1), (89, 1), (93, 1), (95, 1), (184, 1), (185, 1), (193, 1), (194, 1)]\n",
            "was around someone who has covid and my covid test came back negative do still need to quarantine for days after was last exposed\n",
            "[(6, 2), (45, 1), (50, 1), (53, 1), (78, 1), (83, 1), (89, 1), (92, 1), (94, 1), (174, 1), (179, 1), (190, 2), (193, 1), (195, 1), (196, 1), (197, 1), (198, 1), (199, 1), (200, 1), (201, 1), (202, 1), (203, 1)]\n",
            "was recently around someone who has covid but feel fine why should stay at home\n",
            "[(6, 1), (9, 1), (59, 1), (71, 1), (89, 1), (92, 1), (94, 1), (150, 1), (190, 1), (193, 1), (204, 1), (205, 1), (206, 1), (207, 1), (208, 1)]\n",
            "what if have been around someone who was identified as close contact\n",
            "[(3, 1), (68, 1), (86, 1), (89, 1), (90, 1), (93, 1), (94, 1), (190, 1), (193, 1), (194, 1), (209, 1), (210, 1)]\n",
            "will there be national app for contact tracing\n",
            "[(33, 1), (50, 1), (68, 1), (170, 1), (184, 1), (211, 1), (212, 1), (213, 1)]\n",
            "if participate in contact tracing for covid using digital tool is my personal health information secure\n",
            "[(1, 1), (6, 1), (50, 1), (53, 1), (68, 1), (86, 1), (87, 1), (184, 1), (186, 1), (187, 1), (214, 1), (215, 1), (216, 1), (217, 1), (218, 1), (219, 1)]\n",
            "will be required to download contact tracing app for covid on my phone\n",
            "[(6, 1), (33, 1), (45, 1), (50, 1), (53, 1), (68, 1), (170, 1), (180, 1), (184, 1), (211, 1), (220, 1), (221, 1), (222, 1)]\n",
            "am at risk if go to funeral or visitation service for someone who died of covid\n",
            "[(6, 1), (20, 1), (28, 1), (45, 1), (50, 1), (58, 1), (59, 1), (63, 1), (86, 1), (89, 1), (94, 1), (153, 1), (223, 1), (224, 1), (225, 1), (226, 1)]\n",
            "am at risk if touch someone who died of covid after they have passed away\n",
            "[(6, 1), (28, 1), (58, 1), (59, 1), (63, 1), (86, 1), (89, 1), (93, 1), (94, 1), (195, 1), (223, 1), (227, 1), (228, 1), (229, 1), (230, 1)]\n",
            "how can loved ones safely handle belongings of someone who died from covid\n",
            "[(6, 1), (11, 1), (14, 1), (17, 1), (28, 1), (89, 1), (94, 1), (223, 1), (231, 1), (232, 1), (233, 1), (234, 1), (235, 1)]\n",
            "what should do if my family member died from covid while overseas\n",
            "[(3, 1), (6, 1), (17, 1), (53, 1), (71, 1), (83, 1), (86, 1), (147, 1), (223, 1), (236, 1), (237, 1), (238, 1)]\n",
            "my family member died from covid while overseas what are the requirements for returning the body to the united states\n",
            "[(3, 1), (6, 1), (8, 3), (17, 1), (45, 1), (50, 1), (53, 1), (100, 1), (147, 1), (223, 1), (236, 1), (237, 1), (238, 1), (239, 1), (240, 1), (241, 1), (242, 1), (243, 1)]\n",
            "what is the difference between cleaning and disinfecting\n",
            "[(1, 1), (3, 1), (8, 1), (75, 1), (78, 1), (82, 1), (244, 1), (245, 1)]\n",
            "is it safe to vacuum in school business or community facility after someone with suspected or confirmed covid has been present\n",
            "[(1, 1), (6, 1), (20, 2), (34, 1), (45, 1), (51, 1), (55, 1), (87, 1), (89, 1), (92, 1), (95, 1), (122, 1), (194, 1), (195, 1), (246, 1), (247, 1), (248, 1), (249, 1), (250, 1), (251, 1)]\n",
            "what is routine cleaning how frequently should facilities be cleaned to reduce the potential spread of covid\n",
            "[(1, 1), (3, 1), (6, 1), (8, 1), (11, 1), (12, 1), (28, 1), (45, 1), (71, 1), (82, 1), (170, 1), (252, 1), (253, 1), (254, 1), (255, 1), (256, 1), (257, 1)]\n",
            "is cleaning alone effective against the virus that causes covid\n",
            "[(1, 1), (6, 1), (8, 1), (13, 1), (35, 1), (37, 1), (74, 1), (76, 1), (82, 1), (258, 1)]\n",
            "who should clean and disinfect community spaces\n",
            "[(34, 1), (71, 1), (78, 1), (94, 1), (259, 1), (260, 1), (261, 1)]\n",
            "how long do companies need to close for disinfection after an exposure how long before other workers can come back to work\n",
            "[(11, 2), (14, 1), (45, 2), (50, 1), (54, 1), (83, 1), (90, 1), (130, 1), (157, 1), (195, 1), (196, 1), (201, 1), (262, 1), (263, 1), (264, 1), (265, 1), (266, 1), (267, 2), (268, 1)]\n",
            "how effective are alternative disinfection methods such as ultrasonic waves high intensity uv radiation and led blue light\n",
            "[(11, 1), (76, 1), (78, 1), (100, 1), (209, 1), (265, 1), (269, 1), (270, 1), (271, 1), (272, 1), (273, 1), (274, 1), (275, 1), (276, 1), (277, 1), (278, 1), (279, 1), (280, 1)]\n",
            "should outdoor playgrounds like those at schools or in parks be cleaned and disinfected to prevent covid\n",
            "[(6, 1), (20, 1), (43, 1), (45, 1), (59, 1), (71, 1), (78, 1), (87, 1), (170, 1), (252, 1), (281, 1), (282, 1), (283, 1), (284, 1), (285, 1), (286, 1), (287, 1)]\n",
            "can sanitizing tunnels be used at building entrances or exits to prevent the spread of covid\n",
            "[(6, 1), (8, 1), (12, 1), (14, 1), (20, 1), (28, 1), (43, 1), (45, 1), (59, 1), (170, 1), (288, 1), (289, 1), (290, 1), (291, 1), (292, 1), (293, 1)]\n",
            "should sidewalks and roads be disinfected to prevent covid\n",
            "[(6, 1), (43, 1), (45, 1), (71, 1), (78, 1), (170, 1), (281, 1), (294, 1), (295, 1)]\n",
            "can get covid from my pets or other animals\n",
            "[(6, 1), (14, 1), (17, 1), (18, 1), (20, 1), (53, 1), (54, 1), (296, 1), (297, 1)]\n",
            "do need to get my pet tested for covid\n",
            "[(6, 1), (18, 1), (45, 1), (50, 1), (53, 1), (83, 1), (172, 1), (201, 1), (298, 1)]\n",
            "can animals carry the virus that causes covid on their skin or fur\n",
            "[(6, 1), (8, 1), (13, 1), (14, 1), (20, 1), (35, 1), (37, 1), (115, 1), (180, 1), (296, 1), (299, 1), (300, 1), (301, 1)]\n",
            "should avoid contact with pets or other animals if am sick with covid\n",
            "[(6, 1), (20, 1), (54, 1), (58, 1), (68, 1), (71, 1), (86, 1), (88, 1), (95, 2), (296, 1), (297, 1), (302, 1)]\n",
            "what animals can get covid\n",
            "[(3, 1), (6, 1), (14, 1), (18, 1), (296, 1)]\n",
            "should worry about my pet cat\n",
            "[(53, 1), (71, 1), (298, 1), (303, 1), (304, 1), (305, 1)]\n",
            "can walk my dog during the covid pandemic\n",
            "[(6, 1), (8, 1), (14, 1), (49, 1), (53, 1), (306, 1), (307, 1), (308, 1)]\n",
            "can take my dog to dog park\n",
            "[(14, 1), (26, 1), (45, 1), (53, 1), (306, 2), (309, 1)]\n",
            "can take my dog to daycare or groomer\n",
            "[(14, 1), (20, 1), (26, 1), (45, 1), (53, 1), (306, 1), (310, 1), (311, 1)]\n",
            "what should do if my pet gets sick and think it covid\n",
            "[(3, 1), (6, 1), (51, 1), (53, 1), (71, 1), (78, 1), (83, 1), (84, 1), (86, 1), (88, 1), (298, 1), (312, 1)]\n",
            "why are animals being tested when many people can get tested\n",
            "[(4, 1), (9, 1), (14, 1), (18, 1), (100, 1), (128, 1), (166, 1), (172, 2), (296, 1), (313, 1)]\n",
            "are pets from shelter safe to adopt\n",
            "[(17, 1), (45, 1), (55, 1), (100, 1), (297, 1), (314, 1), (315, 1)]\n",
            "what should do if there are pets at my long term care facility or assisted living facility\n",
            "[(3, 1), (20, 1), (47, 1), (53, 1), (59, 1), (71, 1), (83, 1), (86, 1), (100, 1), (213, 1), (248, 2), (267, 1), (297, 1), (316, 1), (317, 1), (318, 1)]\n",
            "what about imported animals or animal products\n",
            "[(3, 1), (20, 1), (62, 1), (296, 1), (303, 1), (319, 1), (320, 1)]\n",
            "can travel to the united states with dogs or import dogs into the united states during the covid outbreak\n",
            "[(6, 1), (8, 3), (14, 1), (20, 1), (29, 1), (45, 1), (49, 1), (95, 1), (242, 2), (243, 2), (321, 2), (322, 1), (323, 1), (324, 1)]\n",
            "what precautions should be taken for animals that have recently been imported from outside the united states for example by shelters rescues or as personal pets\n",
            "[(3, 1), (8, 1), (17, 1), (20, 1), (37, 1), (50, 2), (70, 1), (71, 1), (93, 1), (170, 1), (187, 1), (194, 1), (207, 1), (209, 1), (242, 1), (243, 1), (296, 1), (297, 1), (320, 1), (325, 1), (326, 1), (327, 1), (328, 1), (329, 1), (330, 1)]\n",
            "can wild animals spread the virus that causes covid to people or pets\n",
            "[(6, 1), (8, 1), (12, 1), (13, 1), (14, 1), (20, 1), (35, 1), (37, 1), (45, 1), (128, 1), (296, 1), (297, 1), (331, 1)]\n",
            "can bats in united states get the virus that causes covid and can they spread it back to people\n",
            "[(6, 1), (8, 1), (12, 1), (13, 1), (14, 2), (18, 1), (35, 1), (37, 1), (45, 1), (51, 1), (78, 1), (87, 1), (128, 1), (196, 1), (229, 1), (242, 1), (243, 1), (332, 1)]\n",
            "is hunter harvested game meat safe to eat during the covid pandemic\n",
            "[(1, 1), (6, 1), (8, 1), (45, 1), (49, 1), (55, 1), (307, 1), (333, 1), (334, 1), (335, 1), (336, 1), (337, 1)]\n",
            "how can safely run my equestrian facility\n",
            "[(11, 1), (14, 1), (53, 1), (235, 1), (248, 1), (338, 1), (339, 1)]\n",
            "what is community mitigation\n",
            "[(1, 1), (3, 1), (34, 1), (340, 1)]\n",
            "what are community mitigation actions for covid\n",
            "[(3, 1), (6, 1), (34, 1), (50, 1), (100, 1), (340, 1), (341, 1)]\n",
            "who is involved in community mitigation actions\n",
            "[(1, 1), (34, 1), (87, 1), (94, 1), (340, 1), (341, 1), (342, 1)]\n",
            "can the virus that causes covid spread through treated drinking water\n",
            "[(6, 1), (8, 1), (12, 1), (13, 1), (14, 1), (15, 1), (27, 1), (35, 1), (37, 1), (343, 1), (344, 1)]\n",
            "is the virus that causes covid found in feces stool\n",
            "[(1, 1), (6, 1), (8, 1), (13, 1), (35, 1), (37, 1), (87, 1), (345, 1), (346, 1), (347, 1)]\n",
            "can the covid virus spread through sewerage systems\n",
            "[(6, 1), (8, 1), (12, 1), (13, 1), (14, 1), (343, 1), (348, 1), (349, 1)]\n",
            "should wastewater workers take extra precautions to protect themselves from the virus that causes covid\n",
            "[(6, 1), (8, 1), (13, 1), (17, 1), (26, 1), (35, 1), (37, 1), (40, 1), (45, 1), (70, 1), (71, 1), (268, 1), (350, 1), (351, 1), (352, 1)]\n",
            "if my utility has issued boil water advisory can still use tap water to wash my hands\n",
            "[(14, 1), (27, 2), (45, 1), (46, 1), (53, 2), (86, 1), (92, 1), (203, 1), (353, 1), (354, 1), (355, 1), (356, 1), (357, 1), (358, 1), (359, 1)]\n",
            "can the virus that causes covid spread to people through the water in pools hot tubs or water playgrounds\n",
            "[(6, 1), (8, 2), (12, 1), (13, 1), (14, 1), (20, 1), (27, 2), (35, 1), (37, 1), (45, 1), (87, 1), (128, 1), (285, 1), (343, 1), (360, 1), (361, 1), (362, 1)]\n",
            "can the virus that causes covid spread to people through the water in saltwater pools\n",
            "[(6, 1), (8, 2), (12, 1), (13, 1), (14, 1), (27, 1), (35, 1), (37, 1), (45, 1), (87, 1), (128, 1), (343, 1), (361, 1), (363, 1)]\n",
            "can the virus that causes covid spread to people through the water in lakes oceans or rivers\n",
            "[(6, 1), (8, 2), (12, 1), (13, 1), (14, 1), (20, 1), (27, 1), (35, 1), (37, 1), (45, 1), (87, 1), (128, 1), (343, 1), (364, 1), (365, 1), (366, 1)]\n",
            "can cloth masks be worn in the water\n",
            "[(8, 1), (14, 1), (27, 1), (42, 1), (87, 1), (170, 1), (367, 1), (368, 1)]\n",
            "can lycra spandex or elastane the cloth used to make swimsuits be used to make cloth masks\n",
            "[(8, 1), (14, 1), (20, 1), (42, 1), (45, 2), (159, 2), (170, 1), (293, 2), (367, 2), (369, 1), (370, 1), (371, 1), (372, 1)]\n",
            "how many people visitors and staff can be in and around public pool hot tub or water playground such as at an apartment complex or owned by community at the same time\n",
            "[(8, 1), (11, 1), (14, 1), (20, 2), (27, 1), (34, 1), (57, 1), (59, 2), (78, 2), (87, 1), (128, 1), (130, 1), (151, 1), (169, 1), (170, 1), (193, 1), (209, 1), (277, 1), (313, 1), (325, 1), (360, 1), (373, 1), (374, 1), (375, 1), (376, 1), (377, 1), (378, 1), (379, 1), (380, 1)]\n",
            "can use pool hot tub or water playground water to disinfect surfaces or shared objects\n",
            "[(14, 1), (20, 2), (27, 2), (45, 1), (46, 1), (260, 1), (360, 1), (375, 1), (376, 1), (379, 1), (381, 1), (382, 1), (383, 1)]\n",
            "can the sun ultraviolet uv light disinfect surfaces and shared objects\n",
            "[(8, 1), (14, 1), (78, 1), (260, 1), (274, 1), (279, 1), (381, 1), (382, 1), (383, 1), (384, 1), (385, 1)]\n",
            "how often do surfaces such as handrails and in bathrooms at public pools hot tubs or water playgrounds such as at an apartment complex or owned by community need to be cleaned and disinfected\n",
            "[(11, 1), (20, 2), (27, 1), (34, 1), (45, 1), (59, 2), (78, 2), (83, 1), (87, 1), (130, 1), (151, 1), (170, 1), (201, 1), (209, 2), (252, 1), (277, 2), (281, 1), (285, 1), (325, 1), (360, 1), (361, 1), (362, 1), (373, 1), (374, 1), (377, 1), (383, 1), (386, 1), (387, 1), (388, 1)]\n",
            "do procedures for responding to formed fecal poop or diarrheal incidents in public pools hot tubs or water playgrounds such as at an apartment complex or owned by community need to change during the covid pandemic\n",
            "[(6, 1), (8, 1), (20, 3), (27, 1), (34, 1), (45, 2), (49, 1), (50, 1), (59, 1), (83, 1), (87, 1), (130, 1), (151, 1), (201, 1), (209, 1), (277, 1), (285, 1), (307, 1), (325, 1), (360, 1), (361, 1), (362, 1), (373, 1), (374, 1), (377, 1), (389, 1), (390, 1), (391, 1), (392, 1), (393, 1), (394, 1), (395, 1), (396, 1)]\n",
            "can lifeguards monitor how visitors socially distance stay at least feet apart from people you don live with wear cloth masks or wash hands\n",
            "[(11, 1), (14, 1), (17, 1), (20, 1), (42, 1), (59, 1), (95, 1), (105, 1), (128, 1), (208, 1), (355, 1), (359, 1), (367, 1), (380, 1), (397, 1), (398, 1), (399, 1), (400, 1), (401, 1), (402, 1), (403, 1), (404, 1), (405, 1), (406, 1)]\n",
            "how can the spread of the virus that causes covid be slowed during lifeguard training\n",
            "[(6, 1), (8, 2), (11, 1), (12, 1), (13, 1), (14, 1), (28, 1), (35, 1), (37, 1), (49, 1), (170, 1), (407, 1), (408, 1), (409, 1)]\n"
          ],
          "name": "stdout"
        }
      ]
    },
    {
      "cell_type": "code",
      "metadata": {
        "colab": {
          "base_uri": "https://localhost:8080/"
        },
        "id": "bzxB2YtHkZUa",
        "outputId": "48cb4bd9-db87-4ec1-b78c-4b37336433a1"
      },
      "source": [
        "#for intuition\n",
        "question = 'can i donote blood'\n",
        "question = clean_text(question,False)\n",
        "question_embeddings = dictionary.doc2bow(question.split())\n",
        "\n",
        "print(\"Question:\", question)\n",
        "print(\"Embeddig:\", question_embeddings)"
      ],
      "execution_count": null,
      "outputs": [
        {
          "output_type": "stream",
          "text": [
            "Question: can donote blood\n",
            "Embeddig: [(14, 1), (64, 1)]\n"
          ],
          "name": "stdout"
        }
      ]
    },
    {
      "cell_type": "markdown",
      "metadata": {
        "id": "a2oS9nQRmB4n"
      },
      "source": [
        "Now we have the vector for each sentence in the dataset, we can compute the cosine similarity between them to find that one that is most similar to the asked question"
      ]
    },
    {
      "cell_type": "code",
      "metadata": {
        "id": "qBwoZEh0lNCW"
      },
      "source": [
        "#cosine similarity\n",
        "from sklearn.metrics.pairwise import cosine_similarity\n",
        "\n",
        "def FAQ(question, question_embedding, sentence_embedding, dataset, sentences):\n",
        "  max_similarity=-1\n",
        "  index_similarity=-1\n",
        "  for index, faq_embedding in enumerate(sentence_embedding):\n",
        "    similarity = cosine_similarity(faq_embedding, question_embedding)[0][0]\n",
        "    #print(index, similarity, sentence[index])\n",
        "    if similarity>max_similarity:\n",
        "      max_similarity = similarity\n",
        "      index_similarity =index\n",
        "\n",
        "\n",
        "  print(\"Question:\", question)\n",
        "  print(\"Predicted question:\",  dataset.iloc[index_similarity,0])\n",
        "  print(\"Ans: \",dataset.iloc[index_similarity,1])"
      ],
      "execution_count": null,
      "outputs": []
    },
    {
      "cell_type": "code",
      "metadata": {
        "id": "kf_Qo_X7p_Mt"
      },
      "source": [
        "#function calling\n",
        "# question = 'How to prevent corona?'\n",
        "# question = clean_text(question,False)\n",
        "# question_embeddings = dictionary.doc2bow(question.split())\n",
        "\n",
        "FAQ(question, question_embeddings, bow_corpus, dataset, sentences)"
      ],
      "execution_count": null,
      "outputs": []
    },
    {
      "cell_type": "markdown",
      "metadata": {
        "id": "0e3raERar2LW"
      },
      "source": [
        "## 2. Word2Vec Embedding\n",
        "It is based on training a shallow feed forward neural network. The relationship between words is derived through cosine similarity.  \\\n",
        "The embeddings are trained to take a word as input and reconstruct its context. Hence we can take into account the sematic similarity of words based on context information. \n",
        "\n",
        "link https://code.google.com/archive/p/word2vec/ "
      ]
    },
    {
      "cell_type": "code",
      "metadata": {
        "id": "WnG-tZ9Xr1mM",
        "colab": {
          "base_uri": "https://localhost:8080/"
        },
        "outputId": "48ff402d-9e94-4a0a-8235-941058d9194e"
      },
      "source": [
        "from gensim.models import Word2Vec\n",
        "import gensim.downloader as api\n",
        "\n",
        "v2w_model = api.load('word2vec-google-news-300')"
      ],
      "execution_count": null,
      "outputs": [
        {
          "output_type": "stream",
          "text": [
            "[==================================================] 100.0% 1662.8/1662.8MB downloaded\n"
          ],
          "name": "stdout"
        }
      ]
    },
    {
      "cell_type": "markdown",
      "metadata": {
        "id": "ESJGGrCeKsQO"
      },
      "source": [
        "The embeddings provided ny the word2vec are for individual words. To use these embeddings for phrases/sentences we sum up individual word embeddings in the phrase/sentence to get the sentence vector."
      ]
    },
    {
      "cell_type": "code",
      "metadata": {
        "id": "qR6-Gre3qZ-a"
      },
      "source": [
        "def word_vector(word, model):\n",
        "  #there are 2 situations here: the word exists in the embedding or it does not\n",
        "  samp = model['computer']\n",
        "  vec = [0]*len(samp)\n",
        "  try:\n",
        "    vec = model[word]\n",
        "  except:\n",
        "    vec = [0]*len(samp)\n",
        "\n",
        "  #return the vector for the word embedding\n",
        "  return vec"
      ],
      "execution_count": null,
      "outputs": []
    },
    {
      "cell_type": "code",
      "metadata": {
        "id": "tkdyP0TrLeLP"
      },
      "source": [
        "def phrase_embedding(phrase, embedding_model):\n",
        "  sample = word_vector('computer',v2w_model)\n",
        "  vec = np.array([0]*len(sample))\n",
        "  length = 0\n",
        "  for word in phrase.split():\n",
        "    length+=1\n",
        "    vec = vec+np.array(word_vector(word, v2w_model))\n",
        "\n",
        "  return vec.reshape(1,-1)"
      ],
      "execution_count": null,
      "outputs": []
    },
    {
      "cell_type": "code",
      "metadata": {
        "colab": {
          "base_uri": "https://localhost:8080/"
        },
        "id": "TR6kkXGHMlPp",
        "outputId": "488e0fc2-caac-4794-803e-c230f7a2a0bd"
      },
      "source": [
        "sentence_embeddings=[]\n",
        "cleaned_sentences = get_cleaned_sentences(dataset, remove_stopword=True)\n",
        "for sentence in cleaned_sentences:\n",
        "  sentence_embeddings.append(phrase_embedding(sentence,v2w_model))\n",
        "question_embedding = phrase_embedding(question, v2w_model)\n",
        "\n",
        "FAQ(question, question_embedding, sentence_embeddings, dataset, cleaned_sentences)"
      ],
      "execution_count": null,
      "outputs": [
        {
          "output_type": "stream",
          "text": [
            "Question: can donote blood\n",
            "Predicted question: Is it okay for me to donate blood?\n",
            "Ans:  In healthcare settings across the United States, donated blood is a lifesaving, essential part of caring for patients. The need for donated blood is constant, and blood centers are open and in urgent need of donations. CDC encourages people who are well to continue to donate blood if they are able, even if they are practicing social distancing because of COVID-19. CDC is supporting blood centers by providing recommendations that will keep donors and staff safe. Examples of these recommendations include spacing donor chairs 6 feet apart, thoroughly adhering to environmental cleaning practices, and encouraging donors to make donation appointments ahead of time.\n"
          ],
          "name": "stdout"
        }
      ]
    },
    {
      "cell_type": "markdown",
      "metadata": {
        "id": "NTMqLrhjOqDr"
      },
      "source": [
        "## 3.GloVe Embedding:\n"
      ]
    },
    {
      "cell_type": "code",
      "metadata": {
        "colab": {
          "base_uri": "https://localhost:8080/"
        },
        "id": "jipPLuAVOpo_",
        "outputId": "6d62cf7c-d1ca-4b56-941c-ced26c94eb56"
      },
      "source": [
        "glove_model = api.load('glove-twitter-25')"
      ],
      "execution_count": null,
      "outputs": [
        {
          "output_type": "stream",
          "text": [
            "[==================================================] 100.0% 104.8/104.8MB downloaded\n"
          ],
          "name": "stdout"
        }
      ]
    },
    {
      "cell_type": "code",
      "metadata": {
        "colab": {
          "base_uri": "https://localhost:8080/"
        },
        "id": "I02awrH9NP3M",
        "outputId": "ec14be00-8f0d-4642-d77c-3dd0ea9a4daa"
      },
      "source": [
        "sentence_embedding_glove = []\n",
        "for sentence in cleaned_sentences:\n",
        "  sentence_embedding_glove.append(phrase_embedding(sentence, glove_model))\n",
        "question_embedding_glove = phrase_embedding(question, glove_model)\n",
        "\n",
        "FAQ(question, question_embedding_glove, sentence_embedding_glove, dataset, cleaned_sentences)"
      ],
      "execution_count": null,
      "outputs": [
        {
          "output_type": "stream",
          "text": [
            "Question: can donote blood\n",
            "Predicted question: Is it okay for me to donate blood?\n",
            "Ans:  In healthcare settings across the United States, donated blood is a lifesaving, essential part of caring for patients. The need for donated blood is constant, and blood centers are open and in urgent need of donations. CDC encourages people who are well to continue to donate blood if they are able, even if they are practicing social distancing because of COVID-19. CDC is supporting blood centers by providing recommendations that will keep donors and staff safe. Examples of these recommendations include spacing donor chairs 6 feet apart, thoroughly adhering to environmental cleaning practices, and encouraging donors to make donation appointments ahead of time.\n"
          ],
          "name": "stdout"
        }
      ]
    },
    {
      "cell_type": "markdown",
      "metadata": {
        "id": "Q-1cDC-iRspu"
      },
      "source": [
        "## 4. BERT embedding"
      ]
    },
    {
      "cell_type": "code",
      "metadata": {
        "id": "P71NO8EzVuyI"
      },
      "source": [
        "from bert_serving.client import BertClient\n",
        "bc = BertClient()"
      ],
      "execution_count": null,
      "outputs": []
    },
    {
      "cell_type": "code",
      "metadata": {
        "id": "b9QDCWPBioEn"
      },
      "source": [
        "sentence_embedding_glove = []\n",
        "for sentence in cleaned_sentences:\n",
        "  sentence_embedding_glove.append(phrase_embedding(sentence, bc.encode[sentence]))\n",
        "question_embedding_glove = phrase_embedding(question, bc.encode[sentence])\n",
        "\n",
        "FAQ(question, question_embedding_glove, sentence_embedding_glove, dataset, cleaned_sentences)"
      ],
      "execution_count": null,
      "outputs": []
    }
  ]
}